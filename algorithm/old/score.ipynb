{
 "cells": [
  {
   "cell_type": "code",
   "execution_count": 1,
   "metadata": {},
   "outputs": [
    {
     "name": "stderr",
     "output_type": "stream",
     "text": [
      "Using TensorFlow backend.\n"
     ]
    },
    {
     "name": "stdout",
     "output_type": "stream",
     "text": [
      "data loaded: 5561562 records\n"
     ]
    }
   ],
   "source": [
    "# -*- coding: utf-8 -*-\n",
    "\"\"\"\n",
    "Created on Thu Aug 11 09:47:47 2018\n",
    "\n",
    "@author: Sumit114358\n",
    "\"\"\"\n",
    "\n",
    "import pandas as pd\n",
    "import numpy as np\n",
    "import os\n",
    "import matplotlib.pyplot as plt\n",
    "from keras.layers.core import Dense, Activation, Dropout\n",
    "from keras.layers.recurrent import LSTM\n",
    "from keras.models import Sequential\n",
    "from keras.models import load_model\n",
    "try:\n",
    "    import pickle\n",
    "except:\n",
    "    import cpickle\n",
    "\n",
    "from electricity_cost_prediction import model_building\n",
    "from electricity_cost_prediction import data_preprocess\n",
    "import sys\n",
    "\n",
    "arguments = sys.argv[1:]\n",
    "\n",
    "filename = \"Historical RTM Load Zone and Hub Prices.csv\"\n",
    "\n",
    "#pre-process object\n",
    "preprocess = data_preprocess()\n",
    "\n",
    "#load the data\n",
    "data = preprocess.load_data(filename)\n",
    "\n",
    "#pre process data\n",
    "data = preprocess.preprocess_data(data)\n",
    "\n",
    "\n",
    "#hub level data\n",
    "hub_level_data = preprocess.get_hub_level_data(data)\n",
    "\n",
    "#model class\n",
    "model_builder = model_building()"
   ]
  },
  {
   "cell_type": "code",
   "execution_count": 2,
   "metadata": {},
   "outputs": [
    {
     "data": {
      "text/plain": [
       "<electricity_cost_prediction.model_building at 0x7fe331f94f60>"
      ]
     },
     "execution_count": 2,
     "metadata": {},
     "output_type": "execute_result"
    }
   ],
   "source": [
    "model_builder"
   ]
  },
  {
   "cell_type": "code",
   "execution_count": 35,
   "metadata": {},
   "outputs": [
    {
     "name": "stdout",
     "output_type": "stream",
     "text": [
      "Scoring LZ_RAYBN data!!\n",
      "Scoring HB_HOUSTON data!!\n",
      "Scoring HB_HUBAVG data!!\n",
      "Scoring HB_SOUTH data!!\n",
      "Scoring LZ_HOUSTON data!!\n",
      "Scoring HB_BUSAVG data!!\n",
      "Scoring LZ_SOUTH data!!\n",
      "Scoring HB_WEST data!!\n",
      "Scoring LZ_CPS data!!\n",
      "Scoring LZ_LCRA data!!\n",
      "Scoring LZ_NORTH data!!\n",
      "Scoring HB_NORTH data!!\n",
      "Scoring LZ_WEST data!!\n",
      "Scoring LZ_AEN data!!\n"
     ]
    }
   ],
   "source": [
    "for hub, hub_data in hub_level_data.items():\n",
    "    print(\"Scoring {0} data!!\".format(hub))\n",
    "\n",
    "    #sort the data\n",
    "    hub_data = hub_data.sort_values(by=['year', 'month', 'day', 'hour']).reset_index(drop=True)\n",
    "\n",
    "    #stack the daily data into predicting data\n",
    "    data = preprocess.stack_daily_data_to_matrix(hub_data, sequence_length=23)\n",
    "\n",
    "    #load model for the hub\n",
    "    model = model_builder.load_model(hub)\n",
    "\n",
    "\n",
    "    #predict price\n",
    "    predicted_values = model_builder.predict_price(model, data.reshape(-1,23,1))\n",
    "\n",
    "    #append the predicted values with actual data\n",
    "    hub_data['predicted_price'] = [None]*(hub_data.shape[0]-len(predicted_values)) + list(predicted_values.reshape(-1))\n",
    "\n",
    "    #save the data\n",
    "    if not os.path.exists(\"./scored\"):\n",
    "        os.makedirs(\"./scored\")\n",
    "        \n",
    "    hub_data.to_csv(\"./scored/\" + hub + \".csv\", index=False)"
   ]
  },
  {
   "cell_type": "code",
   "execution_count": null,
   "metadata": {},
   "outputs": [],
   "source": []
  }
 ],
 "metadata": {
  "kernelspec": {
   "display_name": "Python 3",
   "language": "python",
   "name": "python3"
  },
  "language_info": {
   "codemirror_mode": {
    "name": "ipython",
    "version": 3
   },
   "file_extension": ".py",
   "mimetype": "text/x-python",
   "name": "python",
   "nbconvert_exporter": "python",
   "pygments_lexer": "ipython3",
   "version": "3.5.2"
  }
 },
 "nbformat": 4,
 "nbformat_minor": 2
}
