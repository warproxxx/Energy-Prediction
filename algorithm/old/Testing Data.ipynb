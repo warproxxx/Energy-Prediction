{
 "cells": [
  {
   "cell_type": "code",
   "execution_count": 1,
   "metadata": {},
   "outputs": [],
   "source": [
    "import pandas as pd"
   ]
  },
  {
   "cell_type": "code",
   "execution_count": 3,
   "metadata": {},
   "outputs": [],
   "source": [
    "correct = pd.read_csv('Historical RTM Load Zone and Hub Prices.csv')"
   ]
  },
  {
   "cell_type": "code",
   "execution_count": 11,
   "metadata": {},
   "outputs": [
    {
     "data": {
      "text/html": [
       "<div>\n",
       "<style scoped>\n",
       "    .dataframe tbody tr th:only-of-type {\n",
       "        vertical-align: middle;\n",
       "    }\n",
       "\n",
       "    .dataframe tbody tr th {\n",
       "        vertical-align: top;\n",
       "    }\n",
       "\n",
       "    .dataframe thead th {\n",
       "        text-align: right;\n",
       "    }\n",
       "</style>\n",
       "<table border=\"1\" class=\"dataframe\">\n",
       "  <thead>\n",
       "    <tr style=\"text-align: right;\">\n",
       "      <th></th>\n",
       "      <th>Delivery Date</th>\n",
       "      <th>Delivery Hour</th>\n",
       "      <th>Delivery Interval</th>\n",
       "      <th>Repeated Hour Flag</th>\n",
       "      <th>Settlement Point Name</th>\n",
       "      <th>Settlement Point Type</th>\n",
       "      <th>Settlement Point Price</th>\n",
       "    </tr>\n",
       "  </thead>\n",
       "  <tbody>\n",
       "    <tr>\n",
       "      <th>5561557</th>\n",
       "      <td>07/28/2018</td>\n",
       "      <td>24.0</td>\n",
       "      <td>3.0</td>\n",
       "      <td>N</td>\n",
       "      <td>LZ_WEST</td>\n",
       "      <td>LZ</td>\n",
       "      <td>20.87</td>\n",
       "    </tr>\n",
       "    <tr>\n",
       "      <th>5561558</th>\n",
       "      <td>07/28/2018</td>\n",
       "      <td>24.0</td>\n",
       "      <td>3.0</td>\n",
       "      <td>N</td>\n",
       "      <td>LZ_WEST</td>\n",
       "      <td>LZEW</td>\n",
       "      <td>20.87</td>\n",
       "    </tr>\n",
       "    <tr>\n",
       "      <th>5561559</th>\n",
       "      <td>07/28/2018</td>\n",
       "      <td>24.0</td>\n",
       "      <td>4.0</td>\n",
       "      <td>N</td>\n",
       "      <td>LZ_WEST</td>\n",
       "      <td>LZ</td>\n",
       "      <td>20.11</td>\n",
       "    </tr>\n",
       "    <tr>\n",
       "      <th>5561560</th>\n",
       "      <td>07/28/2018</td>\n",
       "      <td>24.0</td>\n",
       "      <td>4.0</td>\n",
       "      <td>N</td>\n",
       "      <td>LZ_WEST</td>\n",
       "      <td>LZEW</td>\n",
       "      <td>20.11</td>\n",
       "    </tr>\n",
       "    <tr>\n",
       "      <th>5561561</th>\n",
       "      <td>2018-07-29 00:00:00</td>\n",
       "      <td>NaN</td>\n",
       "      <td>NaN</td>\n",
       "      <td>10</td>\n",
       "      <td>NaN</td>\n",
       "      <td>08:00:15</td>\n",
       "      <td>NaN</td>\n",
       "    </tr>\n",
       "  </tbody>\n",
       "</table>\n",
       "</div>"
      ],
      "text/plain": [
       "               Delivery Date  Delivery Hour  Delivery Interval  \\\n",
       "5561557           07/28/2018           24.0                3.0   \n",
       "5561558           07/28/2018           24.0                3.0   \n",
       "5561559           07/28/2018           24.0                4.0   \n",
       "5561560           07/28/2018           24.0                4.0   \n",
       "5561561  2018-07-29 00:00:00            NaN                NaN   \n",
       "\n",
       "        Repeated Hour Flag Settlement Point Name Settlement Point Type  \\\n",
       "5561557                  N               LZ_WEST                    LZ   \n",
       "5561558                  N               LZ_WEST                  LZEW   \n",
       "5561559                  N               LZ_WEST                    LZ   \n",
       "5561560                  N               LZ_WEST                  LZEW   \n",
       "5561561                 10                   NaN              08:00:15   \n",
       "\n",
       "         Settlement Point Price  \n",
       "5561557                   20.87  \n",
       "5561558                   20.87  \n",
       "5561559                   20.11  \n",
       "5561560                   20.11  \n",
       "5561561                     NaN  "
      ]
     },
     "execution_count": 11,
     "metadata": {},
     "output_type": "execute_result"
    }
   ],
   "source": [
    "correct.tail(5)"
   ]
  },
  {
   "cell_type": "code",
   "execution_count": 5,
   "metadata": {},
   "outputs": [],
   "source": [
    "scraped = pd.read_csv('livedata/RTMs by Resource Nodes, Load Zones and Trading Hubs/all_data.csv')"
   ]
  },
  {
   "cell_type": "code",
   "execution_count": 9,
   "metadata": {},
   "outputs": [
    {
     "data": {
      "text/html": [
       "<div>\n",
       "<style scoped>\n",
       "    .dataframe tbody tr th:only-of-type {\n",
       "        vertical-align: middle;\n",
       "    }\n",
       "\n",
       "    .dataframe tbody tr th {\n",
       "        vertical-align: top;\n",
       "    }\n",
       "\n",
       "    .dataframe thead th {\n",
       "        text-align: right;\n",
       "    }\n",
       "</style>\n",
       "<table border=\"1\" class=\"dataframe\">\n",
       "  <thead>\n",
       "    <tr style=\"text-align: right;\">\n",
       "      <th></th>\n",
       "      <th>SCEDTimestamp</th>\n",
       "      <th>RepeatedHourFlag</th>\n",
       "      <th>SettlementPoint</th>\n",
       "      <th>LMP</th>\n",
       "    </tr>\n",
       "  </thead>\n",
       "  <tbody>\n",
       "    <tr>\n",
       "      <th>1112995</th>\n",
       "      <td>08/11/2018 00:00:24</td>\n",
       "      <td>N</td>\n",
       "      <td>WIR_WIRTZ_G2</td>\n",
       "      <td>25.97</td>\n",
       "    </tr>\n",
       "    <tr>\n",
       "      <th>1112996</th>\n",
       "      <td>08/11/2018 00:00:24</td>\n",
       "      <td>N</td>\n",
       "      <td>WNDTS2_UNIT1</td>\n",
       "      <td>25.97</td>\n",
       "    </tr>\n",
       "    <tr>\n",
       "      <th>1112997</th>\n",
       "      <td>08/11/2018 00:00:24</td>\n",
       "      <td>N</td>\n",
       "      <td>WND_WHITNEY</td>\n",
       "      <td>25.97</td>\n",
       "    </tr>\n",
       "    <tr>\n",
       "      <th>1112998</th>\n",
       "      <td>08/11/2018 00:00:24</td>\n",
       "      <td>N</td>\n",
       "      <td>WOO_WOODWRD1</td>\n",
       "      <td>25.97</td>\n",
       "    </tr>\n",
       "    <tr>\n",
       "      <th>1112999</th>\n",
       "      <td>08/11/2018 00:00:24</td>\n",
       "      <td>N</td>\n",
       "      <td>WOO_WOODWRD2</td>\n",
       "      <td>25.97</td>\n",
       "    </tr>\n",
       "  </tbody>\n",
       "</table>\n",
       "</div>"
      ],
      "text/plain": [
       "               SCEDTimestamp RepeatedHourFlag SettlementPoint    LMP\n",
       "1112995  08/11/2018 00:00:24                N    WIR_WIRTZ_G2  25.97\n",
       "1112996  08/11/2018 00:00:24                N    WNDTS2_UNIT1  25.97\n",
       "1112997  08/11/2018 00:00:24                N     WND_WHITNEY  25.97\n",
       "1112998  08/11/2018 00:00:24                N    WOO_WOODWRD1  25.97\n",
       "1112999  08/11/2018 00:00:24                N    WOO_WOODWRD2  25.97"
      ]
     },
     "execution_count": 9,
     "metadata": {},
     "output_type": "execute_result"
    }
   ],
   "source": [
    "scraped.tail(5)"
   ]
  },
  {
   "cell_type": "code",
   "execution_count": null,
   "metadata": {},
   "outputs": [],
   "source": []
  }
 ],
 "metadata": {
  "kernelspec": {
   "display_name": "Python 3",
   "language": "python",
   "name": "python3"
  },
  "language_info": {
   "codemirror_mode": {
    "name": "ipython",
    "version": 3
   },
   "file_extension": ".py",
   "mimetype": "text/x-python",
   "name": "python",
   "nbconvert_exporter": "python",
   "pygments_lexer": "ipython3",
   "version": "3.5.2"
  }
 },
 "nbformat": 4,
 "nbformat_minor": 2
}
