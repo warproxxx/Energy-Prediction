{
 "cells": [
  {
   "cell_type": "code",
   "execution_count": 1,
   "metadata": {},
   "outputs": [],
   "source": [
    "import pandas as pd\n",
    "import backtrader as bt\n",
    "import numpy as np\n",
    "import io\n",
    "import quandl\n",
    "import csv\n",
    "import datetime\n",
    "import json"
   ]
  },
  {
   "cell_type": "code",
   "execution_count": 2,
   "metadata": {},
   "outputs": [],
   "source": [
    "df = pd.read_csv('predicted.csv')\n",
    "df['Open'] = df['SettlementPointPrice'].shift(1)\n",
    "df['Close'] = df['SettlementPointPrice']\n",
    "df['Date'] = pd.to_datetime(df['Date']).dt.to_pydatetime()\n",
    "df = df[['Date', 'Open', 'Close', 'Predicted']]"
   ]
  },
  {
   "cell_type": "code",
   "execution_count": 12,
   "metadata": {},
   "outputs": [],
   "source": [
    "class PandasData_Custom(bt.feeds.PandasData):\n",
    "    lines = ('predicted',)\n",
    "    params = (\n",
    "        ('datetime', 0),\n",
    "        ('open', 1),\n",
    "        ('high', None),\n",
    "        ('low', None),\n",
    "        ('close', 2),\n",
    "        ('volume', None),\n",
    "        ('predicted', 3),\n",
    "    )\n",
    "\n",
    "data = PandasData_Custom(dataname=df)"
   ]
  },
  {
   "cell_type": "code",
   "execution_count": 13,
   "metadata": {},
   "outputs": [],
   "source": [
    "class tradeStrategy(bt.Strategy):\n",
    "    def __init__(self):\n",
    "        self.dataclose = self.datas[0].close\n",
    "        self.predicted = self.datas[0].predicted\n",
    "        \n",
    "        self.order=None\n",
    "        self.buyprice=None\n",
    "        self.buycomm=None\n",
    "        \n",
    "        self.trades = io.StringIO()\n",
    "        self.trades_writer = csv.writer(self.trades)\n",
    "        \n",
    "        self.operations = io.StringIO()\n",
    "        self.operations_writer = csv.writer(self.operations)\n",
    "        \n",
    "        self.portfolioValue = io.StringIO()\n",
    "        self.portfolioValue_writer = csv.writer(self.portfolioValue)\n",
    "        \n",
    "    def log(self, txt, dt=None):\n",
    "        dt = dt or self.datas[0].datetime.datetime(0)\n",
    "        print(\"Datetime: {} Message: {} Predicted: {}\".format(dt, txt, self.dataclose[0]))\n",
    "        \n",
    "    def notify_order(self, order):\n",
    "        if order.status in [order.Submitted, order.Accepted]:\n",
    "            return\n",
    "        \n",
    "        if order.status in [order.Completed]:\n",
    "            if order.isbuy():\n",
    "                ordertype = \"BUY\"\n",
    "                #self.log(\"BUY EXECUTED, Price: {}, Cost: {}, Comm: {}\".format(order.executed.price, order.executed.value, order.executed.comm))\n",
    "                self.buyprice = order.executed.price\n",
    "                self.buycomm = order.executed.comm\n",
    "            else:\n",
    "                ordertype = \"SELL\"\n",
    "                #self.log(\"SELL EXECUTED, Price: {}, Cost: {}, Comm: {}\".format(order.executed.price, order.executed.value, order.executed.comm))\n",
    "\n",
    "            self.trades_writer.writerow([self.datas[0].datetime.datetime(0), ordertype, order.executed.price, order.executed.value, order.executed.comm])\n",
    "        \n",
    "            self.bar_executed = len(self)\n",
    "        elif order.status in [order.Canceled, order.Margin, order.Rejected]:\n",
    "            #self.log(\"Order Canceled/Margin/Rejected\")\n",
    "            self.trades_writer.writerow([self.datas[0].datetime.datetime(0) , 'Rejection', 0, 0, 0])\n",
    "            \n",
    "        self.order = None\n",
    "    \n",
    "    def notify_trade(self, trade):\n",
    "        if not trade.isclosed:\n",
    "            return\n",
    "        \n",
    "        self.log('OPERATION PROFIT, GROSS: {}, NET: {}'.format(trade.pnl, trade.pnlcomm))\n",
    "        self.operations_writer.writerow([self.datas[0].datetime.datetime(0), trade.pnlcomm])\n",
    "    \n",
    "    def get_logs(self):\n",
    "        '''\n",
    "        Returns:\n",
    "        ________\n",
    "        portfolioValue (df):\n",
    "        Date and Value of portfolio\n",
    "        \n",
    "        trades (df):\n",
    "        'Date', 'Type', 'Price', 'Total Spent', 'Comission'\n",
    "        \n",
    "        operations (df):\n",
    "        'Date', 'Profit'\n",
    "        '''\n",
    "        self.portfolioValue.seek(0)\n",
    "        portfolioValueDf = pd.read_csv(self.portfolioValue, names=['Date', 'Value'])\n",
    "        \n",
    "        portfolioValueDf['Date'] = pd.to_datetime(portfolioValueDf['Date'])\n",
    "        portfolioValueDf = portfolioValueDf.set_index('Date')\n",
    "        portfolioValueDf = portfolioValueDf.resample('1D').agg({'Date': lambda x: x.iloc[0], 'Value': lambda x: x.iloc[-1]})['Date']\n",
    "        \n",
    "        self.trades.seek(0)\n",
    "        tradesDf = pd.read_csv(self.trades, names=['Date', 'Type', 'Price', 'Total Spent', 'Comission'])\n",
    "        \n",
    "        self.operations.seek(0)\n",
    "        operationsDf = pd.read_csv(self.operations, names=['Date', 'Profit'])\n",
    "        \n",
    "        return portfolioValueDf, tradesDf, operationsDf\n",
    "    \n",
    "    \n",
    "    def next(self):\n",
    "        #self.log('Close: {}'.format(self.dataclose[0]))\n",
    "        self.portfolioValue_writer.writerow([self.datas[0].datetime.datetime(0), self.broker.get_cash()])\n",
    "        \n",
    "        if self.order:\n",
    "            return\n",
    "        \n",
    "        if not self.position:\n",
    "            if self.predicted[0] > self.dataclose[0]:\n",
    "                self.log(\"BUY CREATE {}\".format(self.dataclose[0]))\n",
    "                self.order = self.buy()\n",
    "        else:\n",
    "            if self.predicted[0] < self.dataclose[0]:\n",
    "                self.log(\"SELL CREATE {}\".format(self.dataclose[0]))\n",
    "                self.order = self.sell()"
   ]
  },
  {
   "cell_type": "code",
   "execution_count": 14,
   "metadata": {
    "scrolled": true
   },
   "outputs": [
    {
     "name": "stdout",
     "output_type": "stream",
     "text": [
      "Starting Value: 10000\n"
     ]
    },
    {
     "ename": "NameError",
     "evalue": "name 'order' is not defined",
     "output_type": "error",
     "traceback": [
      "\u001b[0;31m---------------------------------------------------------------------------\u001b[0m",
      "\u001b[0;31mNameError\u001b[0m                                 Traceback (most recent call last)",
      "\u001b[0;32m<ipython-input-14-d9066a5cc2fb>\u001b[0m in \u001b[0;36m<module>\u001b[0;34m()\u001b[0m\n\u001b[1;32m      9\u001b[0m \u001b[0;34m\u001b[0m\u001b[0m\n\u001b[1;32m     10\u001b[0m \u001b[0mprint\u001b[0m\u001b[0;34m(\u001b[0m\u001b[0;34m\"Starting Value: {}\"\u001b[0m\u001b[0;34m.\u001b[0m\u001b[0mformat\u001b[0m\u001b[0;34m(\u001b[0m\u001b[0mcerebro\u001b[0m\u001b[0;34m.\u001b[0m\u001b[0mbroker\u001b[0m\u001b[0;34m.\u001b[0m\u001b[0mgetvalue\u001b[0m\u001b[0;34m(\u001b[0m\u001b[0;34m)\u001b[0m\u001b[0;34m)\u001b[0m\u001b[0;34m)\u001b[0m\u001b[0;34m\u001b[0m\u001b[0m\n\u001b[0;32m---> 11\u001b[0;31m \u001b[0mrun\u001b[0m \u001b[0;34m=\u001b[0m \u001b[0mcerebro\u001b[0m\u001b[0;34m.\u001b[0m\u001b[0mrun\u001b[0m\u001b[0;34m(\u001b[0m\u001b[0;34m)\u001b[0m\u001b[0;34m\u001b[0m\u001b[0m\n\u001b[0m\u001b[1;32m     12\u001b[0m \u001b[0mprint\u001b[0m\u001b[0;34m(\u001b[0m\u001b[0;34m\"Final Value: {}\"\u001b[0m\u001b[0;34m.\u001b[0m\u001b[0mformat\u001b[0m\u001b[0;34m(\u001b[0m\u001b[0mcerebro\u001b[0m\u001b[0;34m.\u001b[0m\u001b[0mbroker\u001b[0m\u001b[0;34m.\u001b[0m\u001b[0mgetvalue\u001b[0m\u001b[0;34m(\u001b[0m\u001b[0;34m)\u001b[0m\u001b[0;34m)\u001b[0m\u001b[0;34m)\u001b[0m\u001b[0;34m\u001b[0m\u001b[0m\n",
      "\u001b[0;32m~/.local/lib/python3.5/site-packages/backtrader/cerebro.py\u001b[0m in \u001b[0;36mrun\u001b[0;34m(self, **kwargs)\u001b[0m\n\u001b[1;32m   1125\u001b[0m             \u001b[0;31m# let's skip process \"spawning\"\u001b[0m\u001b[0;34m\u001b[0m\u001b[0;34m\u001b[0m\u001b[0m\n\u001b[1;32m   1126\u001b[0m             \u001b[0;32mfor\u001b[0m \u001b[0miterstrat\u001b[0m \u001b[0;32min\u001b[0m \u001b[0miterstrats\u001b[0m\u001b[0;34m:\u001b[0m\u001b[0;34m\u001b[0m\u001b[0m\n\u001b[0;32m-> 1127\u001b[0;31m                 \u001b[0mrunstrat\u001b[0m \u001b[0;34m=\u001b[0m \u001b[0mself\u001b[0m\u001b[0;34m.\u001b[0m\u001b[0mrunstrategies\u001b[0m\u001b[0;34m(\u001b[0m\u001b[0miterstrat\u001b[0m\u001b[0;34m)\u001b[0m\u001b[0;34m\u001b[0m\u001b[0m\n\u001b[0m\u001b[1;32m   1128\u001b[0m                 \u001b[0mself\u001b[0m\u001b[0;34m.\u001b[0m\u001b[0mrunstrats\u001b[0m\u001b[0;34m.\u001b[0m\u001b[0mappend\u001b[0m\u001b[0;34m(\u001b[0m\u001b[0mrunstrat\u001b[0m\u001b[0;34m)\u001b[0m\u001b[0;34m\u001b[0m\u001b[0m\n\u001b[1;32m   1129\u001b[0m                 \u001b[0;32mif\u001b[0m \u001b[0mself\u001b[0m\u001b[0;34m.\u001b[0m\u001b[0m_dooptimize\u001b[0m\u001b[0;34m:\u001b[0m\u001b[0;34m\u001b[0m\u001b[0m\n",
      "\u001b[0;32m~/.local/lib/python3.5/site-packages/backtrader/cerebro.py\u001b[0m in \u001b[0;36mrunstrategies\u001b[0;34m(self, iterstrat, predata)\u001b[0m\n\u001b[1;32m   1291\u001b[0m                     \u001b[0mself\u001b[0m\u001b[0;34m.\u001b[0m\u001b[0m_runonce_old\u001b[0m\u001b[0;34m(\u001b[0m\u001b[0mrunstrats\u001b[0m\u001b[0;34m)\u001b[0m\u001b[0;34m\u001b[0m\u001b[0m\n\u001b[1;32m   1292\u001b[0m                 \u001b[0;32melse\u001b[0m\u001b[0;34m:\u001b[0m\u001b[0;34m\u001b[0m\u001b[0m\n\u001b[0;32m-> 1293\u001b[0;31m                     \u001b[0mself\u001b[0m\u001b[0;34m.\u001b[0m\u001b[0m_runonce\u001b[0m\u001b[0;34m(\u001b[0m\u001b[0mrunstrats\u001b[0m\u001b[0;34m)\u001b[0m\u001b[0;34m\u001b[0m\u001b[0m\n\u001b[0m\u001b[1;32m   1294\u001b[0m             \u001b[0;32melse\u001b[0m\u001b[0;34m:\u001b[0m\u001b[0;34m\u001b[0m\u001b[0m\n\u001b[1;32m   1295\u001b[0m                 \u001b[0;32mif\u001b[0m \u001b[0mself\u001b[0m\u001b[0;34m.\u001b[0m\u001b[0mp\u001b[0m\u001b[0;34m.\u001b[0m\u001b[0moldsync\u001b[0m\u001b[0;34m:\u001b[0m\u001b[0;34m\u001b[0m\u001b[0m\n",
      "\u001b[0;32m~/.local/lib/python3.5/site-packages/backtrader/cerebro.py\u001b[0m in \u001b[0;36m_runonce\u001b[0;34m(self, runstrats)\u001b[0m\n\u001b[1;32m   1693\u001b[0m \u001b[0;34m\u001b[0m\u001b[0m\n\u001b[1;32m   1694\u001b[0m             \u001b[0;32mfor\u001b[0m \u001b[0mstrat\u001b[0m \u001b[0;32min\u001b[0m \u001b[0mrunstrats\u001b[0m\u001b[0;34m:\u001b[0m\u001b[0;34m\u001b[0m\u001b[0m\n\u001b[0;32m-> 1695\u001b[0;31m                 \u001b[0mstrat\u001b[0m\u001b[0;34m.\u001b[0m\u001b[0m_oncepost\u001b[0m\u001b[0;34m(\u001b[0m\u001b[0mdt0\u001b[0m\u001b[0;34m)\u001b[0m\u001b[0;34m\u001b[0m\u001b[0m\n\u001b[0m\u001b[1;32m   1696\u001b[0m                 \u001b[0;32mif\u001b[0m \u001b[0mself\u001b[0m\u001b[0;34m.\u001b[0m\u001b[0m_event_stop\u001b[0m\u001b[0;34m:\u001b[0m  \u001b[0;31m# stop if requested\u001b[0m\u001b[0;34m\u001b[0m\u001b[0m\n\u001b[1;32m   1697\u001b[0m                     \u001b[0;32mreturn\u001b[0m\u001b[0;34m\u001b[0m\u001b[0m\n",
      "\u001b[0;32m~/.local/lib/python3.5/site-packages/backtrader/strategy.py\u001b[0m in \u001b[0;36m_oncepost\u001b[0;34m(self, dt)\u001b[0m\n\u001b[1;32m    287\u001b[0m             \u001b[0mself\u001b[0m\u001b[0;34m.\u001b[0m\u001b[0mnext\u001b[0m\u001b[0;34m(\u001b[0m\u001b[0;34m)\u001b[0m\u001b[0;34m\u001b[0m\u001b[0m\n\u001b[1;32m    288\u001b[0m         \u001b[0;32melif\u001b[0m \u001b[0mminperstatus\u001b[0m \u001b[0;34m==\u001b[0m \u001b[0;36m0\u001b[0m\u001b[0;34m:\u001b[0m\u001b[0;34m\u001b[0m\u001b[0m\n\u001b[0;32m--> 289\u001b[0;31m             \u001b[0mself\u001b[0m\u001b[0;34m.\u001b[0m\u001b[0mnextstart\u001b[0m\u001b[0;34m(\u001b[0m\u001b[0;34m)\u001b[0m  \u001b[0;31m# only called for the 1st value\u001b[0m\u001b[0;34m\u001b[0m\u001b[0m\n\u001b[0m\u001b[1;32m    290\u001b[0m         \u001b[0;32melse\u001b[0m\u001b[0;34m:\u001b[0m\u001b[0;34m\u001b[0m\u001b[0m\n\u001b[1;32m    291\u001b[0m             \u001b[0mself\u001b[0m\u001b[0;34m.\u001b[0m\u001b[0mprenext\u001b[0m\u001b[0;34m(\u001b[0m\u001b[0;34m)\u001b[0m\u001b[0;34m\u001b[0m\u001b[0m\n",
      "\u001b[0;32m~/.local/lib/python3.5/site-packages/backtrader/lineiterator.py\u001b[0m in \u001b[0;36mnextstart\u001b[0;34m(self)\u001b[0m\n\u001b[1;32m    340\u001b[0m \u001b[0;34m\u001b[0m\u001b[0m\n\u001b[1;32m    341\u001b[0m         \u001b[0;31m# Called once for 1st full calculation - defaults to regular next\u001b[0m\u001b[0;34m\u001b[0m\u001b[0;34m\u001b[0m\u001b[0m\n\u001b[0;32m--> 342\u001b[0;31m         \u001b[0mself\u001b[0m\u001b[0;34m.\u001b[0m\u001b[0mnext\u001b[0m\u001b[0;34m(\u001b[0m\u001b[0;34m)\u001b[0m\u001b[0;34m\u001b[0m\u001b[0m\n\u001b[0m\u001b[1;32m    343\u001b[0m \u001b[0;34m\u001b[0m\u001b[0m\n\u001b[1;32m    344\u001b[0m     \u001b[0;32mdef\u001b[0m \u001b[0mnext\u001b[0m\u001b[0;34m(\u001b[0m\u001b[0mself\u001b[0m\u001b[0;34m)\u001b[0m\u001b[0;34m:\u001b[0m\u001b[0;34m\u001b[0m\u001b[0m\n",
      "\u001b[0;32m<ipython-input-13-b757cbef4b96>\u001b[0m in \u001b[0;36mnext\u001b[0;34m(self)\u001b[0m\n\u001b[1;32m     83\u001b[0m         \u001b[0;31m#self.log('Close: {}'.format(self.dataclose[0]))\u001b[0m\u001b[0;34m\u001b[0m\u001b[0;34m\u001b[0m\u001b[0m\n\u001b[1;32m     84\u001b[0m         \u001b[0mself\u001b[0m\u001b[0;34m.\u001b[0m\u001b[0mportfolioValue_writer\u001b[0m\u001b[0;34m.\u001b[0m\u001b[0mwriterow\u001b[0m\u001b[0;34m(\u001b[0m\u001b[0;34m[\u001b[0m\u001b[0mself\u001b[0m\u001b[0;34m.\u001b[0m\u001b[0mdatas\u001b[0m\u001b[0;34m[\u001b[0m\u001b[0;36m0\u001b[0m\u001b[0;34m]\u001b[0m\u001b[0;34m.\u001b[0m\u001b[0mdatetime\u001b[0m\u001b[0;34m.\u001b[0m\u001b[0mdatetime\u001b[0m\u001b[0;34m(\u001b[0m\u001b[0;36m0\u001b[0m\u001b[0;34m)\u001b[0m\u001b[0;34m,\u001b[0m \u001b[0mself\u001b[0m\u001b[0;34m.\u001b[0m\u001b[0mbroker\u001b[0m\u001b[0;34m.\u001b[0m\u001b[0mget_cash\u001b[0m\u001b[0;34m(\u001b[0m\u001b[0;34m)\u001b[0m\u001b[0;34m]\u001b[0m\u001b[0;34m)\u001b[0m\u001b[0;34m\u001b[0m\u001b[0m\n\u001b[0;32m---> 85\u001b[0;31m         \u001b[0mprint\u001b[0m\u001b[0;34m(\u001b[0m\u001b[0;34m\"BUY EXECUTED, Price: {}, Cost: {}, Comm: {}\"\u001b[0m\u001b[0;34m.\u001b[0m\u001b[0mformat\u001b[0m\u001b[0;34m(\u001b[0m\u001b[0morder\u001b[0m\u001b[0;34m.\u001b[0m\u001b[0mexecuted\u001b[0m\u001b[0;34m.\u001b[0m\u001b[0mprice\u001b[0m\u001b[0;34m,\u001b[0m \u001b[0morder\u001b[0m\u001b[0;34m.\u001b[0m\u001b[0mexecuted\u001b[0m\u001b[0;34m.\u001b[0m\u001b[0mvalue\u001b[0m\u001b[0;34m,\u001b[0m \u001b[0morder\u001b[0m\u001b[0;34m.\u001b[0m\u001b[0mexecuted\u001b[0m\u001b[0;34m.\u001b[0m\u001b[0mcomm\u001b[0m\u001b[0;34m)\u001b[0m\u001b[0;34m)\u001b[0m\u001b[0;34m\u001b[0m\u001b[0m\n\u001b[0m\u001b[1;32m     86\u001b[0m \u001b[0;34m\u001b[0m\u001b[0m\n\u001b[1;32m     87\u001b[0m         \u001b[0;32mif\u001b[0m \u001b[0mself\u001b[0m\u001b[0;34m.\u001b[0m\u001b[0morder\u001b[0m\u001b[0;34m:\u001b[0m\u001b[0;34m\u001b[0m\u001b[0m\n",
      "\u001b[0;31mNameError\u001b[0m: name 'order' is not defined"
     ]
    }
   ],
   "source": [
    "cerebro = bt.Cerebro()\n",
    "\n",
    "cerebro.adddata(data)\n",
    "cerebro.addstrategy(tradeStrategy)\n",
    "cerebro.addsizer(bt.sizers.SizerFix, stake=10)\n",
    "\n",
    "cerebro.broker.setcash(10000)\n",
    "cerebro.broker.setcommission(0.001)\n",
    "\n",
    "print(\"Starting Value: {}\".format(cerebro.broker.getvalue()))\n",
    "run = cerebro.run()\n",
    "print(\"Final Value: {}\".format(cerebro.broker.getvalue()))"
   ]
  },
  {
   "cell_type": "code",
   "execution_count": 11,
   "metadata": {
    "scrolled": true
   },
   "outputs": [
    {
     "name": "stderr",
     "output_type": "stream",
     "text": [
      "/usr/local/lib/python3.5/dist-packages/ipykernel_launcher.py:71: FutureWarning: using a dict with renaming is deprecated and will be removed in a future version\n"
     ]
    }
   ],
   "source": [
    "portfolioValue, trades, operations = run[0].get_logs()"
   ]
  },
  {
   "cell_type": "code",
   "execution_count": 13,
   "metadata": {},
   "outputs": [],
   "source": [
    "portfolioValue.to_csv('portfolioValue.csv')\n",
    "trades.to_csv('trades.csv')"
   ]
  },
  {
   "cell_type": "markdown",
   "metadata": {},
   "source": [
    "# Space Here because another type"
   ]
  },
  {
   "cell_type": "code",
   "execution_count": 7,
   "metadata": {},
   "outputs": [],
   "source": [
    "df = pd.read_csv('predicted.csv')\n",
    "df = df.set_index('Date')\n",
    "\n",
    "trades = pd.read_csv('trades.csv')\n",
    "trades = trades.set_index('Date')\n",
    "\n",
    "operations = pd.read_csv('operations.csv')\n",
    "operations = operations.set_index('Date')"
   ]
  },
  {
   "cell_type": "code",
   "execution_count": 4,
   "metadata": {},
   "outputs": [],
   "source": [
    "df['Buy'] = trades[trades['Type'] == 'BUY']['Price']\n",
    "df['Sell'] = trades[trades['Type'] == 'SELL']['Price']\n",
    "\n",
    "df['p/l'] = operations['Profit']\n",
    "df['p/l'] = df['p/l'].replace(np.nan, 0)\n",
    "\n",
    "df['Buy'] = df['Buy'].replace(np.nan, '')\n",
    "df['Sell'] = df['Sell'].replace(np.nan, '')"
   ]
  },
  {
   "cell_type": "code",
   "execution_count": 5,
   "metadata": {},
   "outputs": [],
   "source": [
    "df[['SettlementPointPrice', 'Buy', 'Sell', 'p/l']].to_csv('khuile.csv')"
   ]
  },
  {
   "cell_type": "markdown",
   "metadata": {},
   "source": [
    "# Space here because another type"
   ]
  },
  {
   "cell_type": "code",
   "execution_count": 45,
   "metadata": {},
   "outputs": [],
   "source": [
    "def sharpe_ratio(data):\n",
    "    '''\n",
    "    http://www.edge-fund.com/Lo02.pdf\n",
    "\n",
    "    https://sixfigureinvesting.com/2013/09/daily-scaling-sharpe-sortino-excel/\n",
    "    '''\n",
    "    n = 365 ** 0.5 #365 trading days in crypto\n",
    "\n",
    "    percentage = data.pct_change()[1:]\n",
    "    sharpe = (np.average(percentage)/np.std(percentage)) * n\n",
    "    return sharpe\n",
    "\n",
    "def sortino_ratio(data):\n",
    "    '''\n",
    "    The ratio that only considers downside volatility\n",
    "    '''\n",
    "    n = 365 ** 0.5 #365 trading days in crypto\n",
    "    df = pd.DataFrame(columns=['Portfolio', 'Percentage Change'])\n",
    "    df['Portfolio'] = data\n",
    "    df['Percentage Change'] = data.pct_change()\n",
    "    df = df.fillna(method='bfill')\n",
    "    negatives = df[df['Percentage Change'] < 0]['Percentage Change']\n",
    "    sortino = (np.average(df['Percentage Change'])/np.std(negatives)) * n\n",
    "    return sortino\n",
    "\n",
    "def drawDown(down):\n",
    "    '''\n",
    "    Returns maximum draw down in terms of percentage\n",
    "    '''\n",
    "\n",
    "    minimum = ((np.amin(down) - down[0])/down[0]) * 100\n",
    "    return minimum\n",
    "\n",
    "def portfolio_return(data):\n",
    "    return (data[-1] - data[0])/data[0]"
   ]
  },
  {
   "cell_type": "markdown",
   "metadata": {},
   "source": [
    "# New Start"
   ]
  },
  {
   "cell_type": "code",
   "execution_count": 13,
   "metadata": {},
   "outputs": [],
   "source": [
    "from alpha_vantage.timeseries import TimeSeries\n",
    "ts = TimeSeries(key='9CFF0BJ1ZPRQYEO0',output_format='pandas')\n",
    "data, meta_data = ts.get_daily_adjusted('^GSPC')"
   ]
  },
  {
   "cell_type": "code",
   "execution_count": 28,
   "metadata": {},
   "outputs": [],
   "source": [
    "spNew = data.reset_index()[['date', '5. adjusted close']].rename(columns={'date': 'Date', '5. adjusted close': 'Adj Close'})\n",
    "spOld = pd.read_csv('S&P.csv')[['Date', 'Adj Close']]"
   ]
  },
  {
   "cell_type": "code",
   "execution_count": 37,
   "metadata": {},
   "outputs": [],
   "source": [
    "spy = pd.concat([spOld, spNew[spNew['Date'] > spOld.iloc[-1]['Date']]]).reset_index(drop=True)"
   ]
  },
  {
   "cell_type": "code",
   "execution_count": 4,
   "metadata": {},
   "outputs": [],
   "source": [
    "portfolioValue = pd.read_csv('portfolioValue.csv')\n",
    "portfolioValue['Date'] = pd.to_datetime(portfolioValue['Date'])\n",
    "portfolioValue = portfolioValue.set_index('Date')"
   ]
  },
  {
   "cell_type": "code",
   "execution_count": 47,
   "metadata": {},
   "outputs": [
    {
     "data": {
      "text/plain": [
       "1.383518427379833"
      ]
     },
     "execution_count": 47,
     "metadata": {},
     "output_type": "execute_result"
    }
   ],
   "source": [
    "portfolio_return(portfolioValue['s&pValue'])"
   ]
  },
  {
   "cell_type": "code",
   "execution_count": null,
   "metadata": {},
   "outputs": [],
   "source": [
    "#get data from alphavantage and the csv to compare and for same timeline"
   ]
  },
  {
   "cell_type": "code",
   "execution_count": null,
   "metadata": {},
   "outputs": [],
   "source": []
  },
  {
   "cell_type": "code",
   "execution_count": 41,
   "metadata": {
    "scrolled": true
   },
   "outputs": [],
   "source": [
    "sp = pd.read_csv('S&P.csv')[:-2][['Date', 'Adj Close']]\n",
    "sp['Date'] = pd.to_datetime(sp['Date'])\n",
    "sp = sp.set_index('Date')"
   ]
  },
  {
   "cell_type": "code",
   "execution_count": 42,
   "metadata": {},
   "outputs": [],
   "source": [
    "portfolioValue['s&p'] = sp['Adj Close']\n",
    "portfolioValue = portfolioValue.fillna(method='ffill')\n",
    "portfolioValue['s&pValue'] = (portfolioValue['Value'].iloc[0] / portfolioValue['s&p'].iloc[0]) * portfolioValue['s&p']\n",
    "portfolioValue = portfolioValue.drop('s&p', axis=1)"
   ]
  },
  {
   "cell_type": "code",
   "execution_count": 38,
   "metadata": {},
   "outputs": [],
   "source": [
    "portfolioValue.to_csv('newPortfolioValue.csv')"
   ]
  },
  {
   "cell_type": "code",
   "execution_count": 44,
   "metadata": {},
   "outputs": [],
   "source": [
    "sharpe = sharpe_ratio(portfolioValue['s&pValue'])\n",
    "\n",
    "sortino = sortino_ratio(portfolioValue['s&pValue'])\n",
    "\n",
    "drawdown = drawDown(portfolioValue['s&pValue'])"
   ]
  },
  {
   "cell_type": "code",
   "execution_count": 205,
   "metadata": {},
   "outputs": [],
   "source": [
    "sharpe = sharpe_ratio(portfolioValue['Value'])\n",
    "sortino = sortino_ratio(portfolioValue['Value'])\n",
    "drawdown = drawDown(portfolioValue['Value'])\n",
    "\n",
    "backtestMetrics = {'Sharpe Ratio': sharpe, 'Sortino Ratio': sortino, 'Maximum Drawdown': drawdown}\n",
    "\n",
    "data = json.dumps(backtestMetrics)\n",
    "\n",
    "with open(\"s&pMetrics.json\", 'w') as fp:\n",
    "    json.dump(data, fp)"
   ]
  },
  {
   "cell_type": "code",
   "execution_count": 207,
   "metadata": {},
   "outputs": [],
   "source": [
    "sharpe = sharpe_ratio(portfolioValue['Value'])\n",
    "sortino = sortino_ratio(portfolioValue['Value'])\n",
    "drawdown = drawDown(portfolioValue['Value'])\n",
    "\n",
    "backtestMetrics = {'Sharpe Ratio': sharpe, 'Sortino Ratio': sortino, 'Maximum Drawdown': drawdown}\n",
    "\n",
    "data = json.dumps(backtestMetrics)\n",
    "\n",
    "with open(\"strategyMetrics.json\", 'w') as fp:\n",
    "    json.dump(data, fp)"
   ]
  },
  {
   "cell_type": "code",
   "execution_count": 51,
   "metadata": {},
   "outputs": [],
   "source": [
    "#Finally monthly returns and drawdown"
   ]
  },
  {
   "cell_type": "code",
   "execution_count": 200,
   "metadata": {},
   "outputs": [],
   "source": [
    "def my_agg(x, column):\n",
    "    names = {\n",
    "        'Time': x.index[0].to_pydatetime().strftime(\"%B %Y\"),\n",
    "        'Return': (x[column].iloc[-1] - x[column].iloc[0])/x[column].iloc[0],\n",
    "        'Drawdown': ((np.amin(x[column]) - x[column].iloc[0])/x[column].iloc[0])}\n",
    "\n",
    "    return pd.Series(names, index=['Time', 'Return', 'Drawdown'])"
   ]
  },
  {
   "cell_type": "code",
   "execution_count": 208,
   "metadata": {},
   "outputs": [],
   "source": [
    "portfolio = portfolioValue.resample('1M').apply(my_agg, column='Value').reset_index(drop=True)\n",
    "portfolio.to_csv('strategyMovementDetails.csv', index=None)"
   ]
  },
  {
   "cell_type": "code",
   "execution_count": 204,
   "metadata": {},
   "outputs": [],
   "source": [
    "spy = portfolioValue.resample('1M').apply(my_agg, column='s&pValue').reset_index(drop=True)\n",
    "spy.to_csv('s&pMovementDetails.csv', index=None)"
   ]
  },
  {
   "cell_type": "code",
   "execution_count": null,
   "metadata": {},
   "outputs": [],
   "source": []
  }
 ],
 "metadata": {
  "kernelspec": {
   "display_name": "Python 3",
   "language": "python",
   "name": "python3"
  },
  "language_info": {
   "codemirror_mode": {
    "name": "ipython",
    "version": 3
   },
   "file_extension": ".py",
   "mimetype": "text/x-python",
   "name": "python",
   "nbconvert_exporter": "python",
   "pygments_lexer": "ipython3",
   "version": "3.5.2"
  }
 },
 "nbformat": 4,
 "nbformat_minor": 2
}
