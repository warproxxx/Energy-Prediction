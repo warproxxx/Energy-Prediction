{
 "cells": [
  {
   "cell_type": "code",
   "execution_count": 1,
   "metadata": {},
   "outputs": [],
   "source": [
    "import pandas as pd\n",
    "import numpy as np\n",
    "\n",
    "import matplotlib.pyplot as plt\n"
   ]
  },
  {
   "cell_type": "code",
   "execution_count": 2,
   "metadata": {},
   "outputs": [],
   "source": [
    "df = pd.read_csv('HB_HOUSTON.csv')"
   ]
  },
  {
   "cell_type": "code",
   "execution_count": 3,
   "metadata": {},
   "outputs": [],
   "source": [
    "dfTrain = df[:int(df.shape[0] * 0.8)]\n",
    "dfTest = df[int(df.shape[0] * 0.8):]"
   ]
  },
  {
   "cell_type": "code",
   "execution_count": 5,
   "metadata": {},
   "outputs": [],
   "source": [
    "def calculate_accuracy(df):\n",
    "    \n",
    "    y = df['actual_direction']\n",
    "    AL = df['predicted_direction']\n",
    "    \n",
    "    assert(y.shape[0] == AL.shape[0])\n",
    "    \n",
    "    total = y.shape[0]\n",
    "    TP = np.sum(np.logical_and(AL==1, y==1))\n",
    "    TN = np.sum(np.logical_and(AL==0, y==0))\n",
    "\n",
    "    FP = np.sum(np.logical_and(AL==1, y==0))\n",
    "    FN = np.sum(np.logical_and(AL==0, y==1))\n",
    "\n",
    "    P = TP / (TP + FP)\n",
    "    R = TP / (TP + TN)\n",
    "    F1 = (2 * P * R) / (P + R)\n",
    "\n",
    "    acc = np.sum(AL == y)/total\n",
    "\n",
    "\n",
    "    print(\"\\nAccuracy: {} \\n\".format(acc))\n",
    "    print(\"True Positive: {} \\nTrue Negative: {}\\nFalse Positive: {} \\nFalse Negative: {}\\n\".format(TP, TN, FP, FN))\n",
    "    print(\"Precision: {} \\nRecall: {} \\nF1 Score: {}\\n\".format(P, R, F1))   \n",
    "    \n",
    "    return y, AL, df['datetime']"
   ]
  },
  {
   "cell_type": "code",
   "execution_count": 6,
   "metadata": {},
   "outputs": [
    {
     "name": "stdout",
     "output_type": "stream",
     "text": [
      "\n",
      "Accuracy: 0.875858214912981 \n",
      "\n",
      "True Positive: 10510 \n",
      "True Negative: 11432\n",
      "False Positive: 1702 \n",
      "False Negative: 1408\n",
      "\n",
      "Precision: 0.8606288896167704 \n",
      "Recall: 0.47899006471606964 \n",
      "F1 Score: 0.6154476781636119\n",
      "\n"
     ]
    },
    {
     "name": "stderr",
     "output_type": "stream",
     "text": [
      "/usr/local/lib/python3.5/dist-packages/ipykernel_launcher.py:2: SettingWithCopyWarning: \n",
      "A value is trying to be set on a copy of a slice from a DataFrame.\n",
      "Try using .loc[row_indexer,col_indexer] = value instead\n",
      "\n",
      "See the caveats in the documentation: http://pandas.pydata.org/pandas-docs/stable/indexing.html#indexing-view-versus-copy\n",
      "  \n"
     ]
    }
   ],
   "source": [
    "y, AL, Xaxis = calculate_accuracy(dfTrain)"
   ]
  },
  {
   "cell_type": "code",
   "execution_count": 20,
   "metadata": {},
   "outputs": [],
   "source": [
    "#add bar plot between Xaxis and y and AL here"
   ]
  },
  {
   "cell_type": "code",
   "execution_count": 52,
   "metadata": {},
   "outputs": [
    {
     "name": "stdout",
     "output_type": "stream",
     "text": [
      "\n",
      "Accuracy: 0.8716475095785441 \n",
      "\n",
      "True Positive: 2606 \n",
      "True Negative: 2854\n",
      "False Positive: 459 \n",
      "False Negative: 345\n",
      "\n",
      "Precision: 0.8502446982055465 \n",
      "Recall: 0.4772893772893773 \n",
      "F1 Score: 0.6113782991202346\n",
      "\n"
     ]
    },
    {
     "name": "stderr",
     "output_type": "stream",
     "text": [
      "/usr/local/lib/python3.5/dist-packages/ipykernel_launcher.py:2: SettingWithCopyWarning: \n",
      "A value is trying to be set on a copy of a slice from a DataFrame.\n",
      "Try using .loc[row_indexer,col_indexer] = value instead\n",
      "\n",
      "See the caveats in the documentation: http://pandas.pydata.org/pandas-docs/stable/indexing.html#indexing-view-versus-copy\n",
      "  \n"
     ]
    }
   ],
   "source": [
    "calculate_accuracy(dfTest)"
   ]
  },
  {
   "cell_type": "code",
   "execution_count": null,
   "metadata": {},
   "outputs": [],
   "source": []
  }
 ],
 "metadata": {
  "kernelspec": {
   "display_name": "Python 3",
   "language": "python",
   "name": "python3"
  },
  "language_info": {
   "codemirror_mode": {
    "name": "ipython",
    "version": 3
   },
   "file_extension": ".py",
   "mimetype": "text/x-python",
   "name": "python",
   "nbconvert_exporter": "python",
   "pygments_lexer": "ipython3",
   "version": "3.5.2"
  }
 },
 "nbformat": 4,
 "nbformat_minor": 2
}
