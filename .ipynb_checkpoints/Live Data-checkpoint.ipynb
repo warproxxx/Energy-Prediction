{
 "cells": [
  {
   "cell_type": "code",
   "execution_count": null,
   "metadata": {},
   "outputs": [],
   "source": [
    "# -*- coding: utf-8 -*-\n",
    "\"\"\"\n",
    "Created on Fri Aug 2 18:10:06 2018\n",
    "\"\"\"\n",
    "import requests\n",
    "import re\n",
    "import os\n",
    "from bs4 import BeautifulSoup\n",
    "from fake_useragent import UserAgent\n",
    "import pandas as pd\n",
    "import time\n",
    "import pickle\n",
    "import zipfile\n",
    "\n",
    "save_path = r\"livedata\"\n",
    "\n",
    "start_time = time.time()\n",
    "user_agent = UserAgent()\n",
    "\n",
    "def try_get_page_soup(page_url):\n",
    "    soup = None\n",
    "    \n",
    "    try:\n",
    "        headers = {'User-Agent':str(user_agent.random)}\n",
    "        page = requests.get(page_url, headers=headers)\n",
    "        retry = 1\n",
    "        while(page.status_code != 200):\n",
    "            if retry > 3:\n",
    "                break\n",
    "            time.sleep(10)\n",
    "            page = requests.get(page_url, headers=headers)\n",
    "            retry += 1\n",
    "        if page.status_code != 200:\n",
    "            print(\"page failed: \" + page_url)\n",
    "        else:\n",
    "            soup = BeautifulSoup(page.text)\n",
    "    except:\n",
    "        soup = None\n",
    "        \n",
    "    return soup\n",
    "\n",
    "def get_response(page_url):\n",
    "    page = None\n",
    "    try:\n",
    "        headers = {'User-Agent':str(user_agent.random)}\n",
    "        page = requests.get(page_url, headers)\n",
    "    except:\n",
    "        print(\"error loading the page: {0}\".format(page_url))\n",
    "    return page\n",
    "        \n",
    "\n",
    "def load_data(filename):\n",
    "    df = None\n",
    "    try:\n",
    "        df = pd.read_csv(filename, encoding='latin1')        \n",
    "    except:\n",
    "        pass    \n",
    "    return df\n",
    "\n",
    "start_page = \"http://mis.ercot.com/misapp/GetReports.do?reportTypeId=12300&reportTitle=RTMs%20by%20Resource%20Nodes,%20Load%20Zones%20and%20Trading%20Hubs&showHTMLView=&mimicKey\"\n",
    "folder = \"RTMs by Resource Nodes, Load Zones and Trading Hubs\"\n",
    "root = \"http://mis.ercot.com\"\n",
    "\n",
    "if not os.path.exists(os.path.join(save_path, folder)):\n",
    "    os.makedirs(os.path.join(save_path, folder))\n",
    "    \n",
    "save_path = os.path.join(save_path, folder)"
   ]
  },
  {
   "cell_type": "code",
   "execution_count": null,
   "metadata": {},
   "outputs": [],
   "source": [
    "soup = try_get_page_soup(start_page)"
   ]
  }
 ],
 "metadata": {
  "kernelspec": {
   "display_name": "Python 3",
   "language": "python",
   "name": "python3"
  },
  "language_info": {
   "codemirror_mode": {
    "name": "ipython",
    "version": 3
   },
   "file_extension": ".py",
   "mimetype": "text/x-python",
   "name": "python",
   "nbconvert_exporter": "python",
   "pygments_lexer": "ipython3",
   "version": "3.5.2"
  }
 },
 "nbformat": 4,
 "nbformat_minor": 2
}
