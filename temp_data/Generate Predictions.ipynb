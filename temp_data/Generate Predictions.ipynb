{
 "cells": [
  {
   "cell_type": "code",
   "execution_count": 1,
   "metadata": {},
   "outputs": [
    {
     "name": "stderr",
     "output_type": "stream",
     "text": [
      "Using TensorFlow backend.\n"
     ]
    }
   ],
   "source": [
    "import numpy as np\n",
    "import pandas as pd\n",
    "\n",
    "import os\n",
    "import matplotlib.pyplot as plt\n",
    "from keras.layers.core import Dense, Activation, Dropout\n",
    "from keras.layers.recurrent import LSTM\n",
    "from keras.models import Sequential\n",
    "from keras.models import load_model\n",
    "try:\n",
    "    import pickle\n",
    "except:\n",
    "    import cpickle"
   ]
  },
  {
   "cell_type": "code",
   "execution_count": 2,
   "metadata": {},
   "outputs": [],
   "source": [
    "df = pd.read_csv('HB_HOUSTON_data.csv')"
   ]
  },
  {
   "cell_type": "code",
   "execution_count": 3,
   "metadata": {},
   "outputs": [],
   "source": [
    "class model_building(object):\n",
    "    def __init__(self):\n",
    "        self.sequence_length = 24\n",
    "        self.mean = 0\n",
    "        \n",
    "    def split_train_test(self, data, test_fraction=0.2):\n",
    "        train_ind = int(round((1-test_fraction)*data.shape[0]))\n",
    "        train_set = data[:train_ind,:]\n",
    "        \n",
    "        #shuffle the train set\n",
    "        np.random.shuffle(train_set)\n",
    "        \n",
    "        X_train = train_set[:,:-1]\n",
    "        Y_train = train_set[:,-1]\n",
    "        \n",
    "        X_test = data[train_ind:, :-1]\n",
    "        Y_test = data[train_ind:, -1]\n",
    "        \n",
    "        #reshape the data to suit the LSTM network\n",
    "        X_train = np.reshape(X_train, (X_train.shape[0], X_train.shape[1], 1))\n",
    "        X_test = np.reshape(X_test, (X_test.shape[0], X_test.shape[1], 1))\n",
    "        \n",
    "        return X_train, Y_train, X_test, Y_test\n",
    "    \n",
    "    def build_model(self, train_x, train_y):\n",
    "        # build the model\n",
    "        model = Sequential()\n",
    "        \n",
    "        # layer 1: LSTM\n",
    "        model.add(LSTM( input_dim=1, output_dim=50, return_sequences=True))\n",
    "        model.add(Dropout(0.2))\n",
    "        \n",
    "        # layer 2: LSTM\n",
    "        model.add(LSTM(output_dim=100, return_sequences=False))\n",
    "        model.add(Dropout(0.2))\n",
    "        \n",
    "        # layer 3: dense\n",
    "        # linear activation: a(x) = x\n",
    "        model.add(Dense(output_dim=1, activation='linear'))\n",
    "        \n",
    "        # compile the model \n",
    "        model.compile(loss=\"mse\", optimizer=\"rmsprop\")\n",
    "        \n",
    "        # train the model \n",
    "        model.fit(train_x, train_y, batch_size=512, nb_epoch=50, validation_split=0.05, verbose=1)\n",
    "        \n",
    "        return model\n",
    "    \n",
    "    def evaluate_model(self, model, test_x, test_y):\n",
    "        # evaluate the result \n",
    "        test_mse = model.evaluate(test_x, test_y, verbose=1)\n",
    "        print ('\\nThe mean squared error (MSE) on the test data set is %.3f over %d test samples.' % (test_mse, len(test_y)))\n",
    "        return test_mse\n",
    "        \n",
    "    def predict_price(self, model, test_x):\n",
    "        # get the predicted values \n",
    "        predicted_values = model.predict(test_x)\n",
    "        num_test_samples = len(predicted_values)\n",
    "        predicted_values = np.reshape(predicted_values, (num_test_samples,1))\n",
    "        \n",
    "        return predicted_values\n",
    "    \n",
    "    def plot_result(self, test_y, predicted_values, model_name, show=False):\n",
    "        # plot the results \n",
    "        fig = plt.figure()\n",
    "        plt.plot(test_y)\n",
    "        plt.plot(predicted_values)\n",
    "        plt.xlabel('Hour')\n",
    "        plt.ylabel('Electricity Price')\n",
    "        if show:\n",
    "            plt.show()\n",
    "        if not os.path.exists(r\"./accuracy\"):\n",
    "            os.makedirs(\"./accuracy\")\n",
    "        fig.savefig(os.path.join(\"./accuracy\", model_name + '.jpg', bbox_inches='tight'))\n",
    "        fig.clear()\n",
    "        \n",
    "    def save_values(self, predicted_values, test_y):\n",
    "        # save the result into txt file \n",
    "        test_result = np.vstack((predicted_values, test_y))\n",
    "        a = [['predicted_price', 'actual_price']]\n",
    "        a.extend(test_result)\n",
    "        np.savetxt('electricity_price_forcasting.txt', a)\n",
    "        \n",
    "    def save_model(self, model, model_name):\n",
    "        try:\n",
    "            #save the model for later use\n",
    "            if not os.path.exists(\"./models\"):\n",
    "                os.makedirs(\"./models\")\n",
    "            model.save(os.path.join(\"./models\", model_name + '.h5'))\n",
    "            print(model_name + \" model saved!\")\n",
    "        except:\n",
    "            print(model_name + \" model saving failed!!\")\n",
    "        \n",
    "    def load_model(self, model_name):\n",
    "        model = None\n",
    "        try:\n",
    "            #load the saved model\n",
    "            if os.path.exists(os.path.join(\"./models\", model_name + '.h5')):\n",
    "                model = load_model(os.path.join(\"./models\", model_name + '.h5'))\n",
    "            else:\n",
    "                print(model_name + \" model not found!\")\n",
    "        except:\n",
    "            print(model_name + \" model loading failed!!\")\n",
    "        return model"
   ]
  },
  {
   "cell_type": "code",
   "execution_count": 4,
   "metadata": {},
   "outputs": [],
   "source": [
    "model_builder = model_building()"
   ]
  },
  {
   "cell_type": "code",
   "execution_count": 5,
   "metadata": {},
   "outputs": [],
   "source": [
    "model = model_builder.load_model(\"HB_HOUSTON\")"
   ]
  },
  {
   "cell_type": "code",
   "execution_count": 6,
   "metadata": {},
   "outputs": [
    {
     "name": "stdout",
     "output_type": "stream",
     "text": [
      "_________________________________________________________________\n",
      "Layer (type)                 Output Shape              Param #   \n",
      "=================================================================\n",
      "lstm_21 (LSTM)               (None, None, 50)          10400     \n",
      "_________________________________________________________________\n",
      "dropout_21 (Dropout)         (None, None, 50)          0         \n",
      "_________________________________________________________________\n",
      "lstm_22 (LSTM)               (None, 100)               60400     \n",
      "_________________________________________________________________\n",
      "dropout_22 (Dropout)         (None, 100)               0         \n",
      "_________________________________________________________________\n",
      "dense_11 (Dense)             (None, 1)                 101       \n",
      "=================================================================\n",
      "Total params: 70,901\n",
      "Trainable params: 70,901\n",
      "Non-trainable params: 0\n",
      "_________________________________________________________________\n"
     ]
    }
   ],
   "source": [
    "model.summary()"
   ]
  },
  {
   "cell_type": "code",
   "execution_count": 7,
   "metadata": {},
   "outputs": [],
   "source": [
    "data = df['SettlementPointPrice'].values"
   ]
  },
  {
   "cell_type": "code",
   "execution_count": 8,
   "metadata": {},
   "outputs": [],
   "source": [
    "data_out = []\n",
    "\n",
    "sequence_length = 23\n",
    "\n",
    "for i in range(len(data)-sequence_length+1):\n",
    "    data_out.append(data[i:i+sequence_length])\n",
    "\n",
    "data = np.array(data_out)"
   ]
  },
  {
   "cell_type": "code",
   "execution_count": 10,
   "metadata": {},
   "outputs": [
    {
     "data": {
      "text/plain": [
       "(270788, 23)"
      ]
     },
     "execution_count": 10,
     "metadata": {},
     "output_type": "execute_result"
    }
   ],
   "source": [
    "data.shape"
   ]
  },
  {
   "cell_type": "code",
   "execution_count": 45,
   "metadata": {},
   "outputs": [],
   "source": [
    "predicted_values = model_builder.predict_price(model, data.reshape(-1,23,1))"
   ]
  },
  {
   "cell_type": "code",
   "execution_count": 50,
   "metadata": {},
   "outputs": [],
   "source": [
    "df['Predicted'] = [None]*(df.shape[0]-len(predicted_values)) + list(predicted_values.reshape(-1))"
   ]
  },
  {
   "cell_type": "code",
   "execution_count": 52,
   "metadata": {},
   "outputs": [],
   "source": [
    "df.to_csv('HB_HOUSTON.csv')"
   ]
  }
 ],
 "metadata": {
  "kernelspec": {
   "display_name": "Python 3",
   "language": "python",
   "name": "python3"
  },
  "language_info": {
   "codemirror_mode": {
    "name": "ipython",
    "version": 3
   },
   "file_extension": ".py",
   "mimetype": "text/x-python",
   "name": "python",
   "nbconvert_exporter": "python",
   "pygments_lexer": "ipython3",
   "version": "3.5.2"
  }
 },
 "nbformat": 4,
 "nbformat_minor": 2
}
